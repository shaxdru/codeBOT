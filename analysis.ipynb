{
 "cells": [
  {
   "cell_type": "code",
   "execution_count": 1,
   "metadata": {},
   "outputs": [],
   "source": [
    "import pandas as pd\n",
    "import numpy as np\n",
    "import matplotlib.pyplot as plt\n",
    "import seaborn as sns"
   ]
  },
  {
   "cell_type": "code",
   "execution_count": 4,
   "metadata": {},
   "outputs": [],
   "source": [
    "df=pd.read_excel(r\"C:\\Users\\mrcha\\Documents\\Data Scientist\\Python\\Data analyst\\ExpensesTracker\\PhonePe_Transaction_Statement.xlsx\", skiprows=1)"
   ]
  },
  {
   "cell_type": "code",
   "execution_count": 5,
   "metadata": {},
   "outputs": [
    {
     "data": {
      "text/html": [
       "<div>\n",
       "<style scoped>\n",
       "    .dataframe tbody tr th:only-of-type {\n",
       "        vertical-align: middle;\n",
       "    }\n",
       "\n",
       "    .dataframe tbody tr th {\n",
       "        vertical-align: top;\n",
       "    }\n",
       "\n",
       "    .dataframe thead th {\n",
       "        text-align: right;\n",
       "    }\n",
       "</style>\n",
       "<table border=\"1\" class=\"dataframe\">\n",
       "  <thead>\n",
       "    <tr style=\"text-align: right;\">\n",
       "      <th></th>\n",
       "      <th>Date</th>\n",
       "      <th>Transaction Details</th>\n",
       "      <th>Type</th>\n",
       "      <th>Amount</th>\n",
       "    </tr>\n",
       "  </thead>\n",
       "  <tbody>\n",
       "    <tr>\n",
       "      <th>0</th>\n",
       "      <td>May 13, 2023\\n12:33 PM</td>\n",
       "      <td>Received from Prakash\\nTransaction ID : T23051...</td>\n",
       "      <td>Credit</td>\n",
       "      <td>10000.00</td>\n",
       "    </tr>\n",
       "    <tr>\n",
       "      <th>1</th>\n",
       "      <td>NaN</td>\n",
       "      <td>UTR No : 313363317514</td>\n",
       "      <td>NaN</td>\n",
       "      <td>NaN</td>\n",
       "    </tr>\n",
       "    <tr>\n",
       "      <th>2</th>\n",
       "      <td>NaN</td>\n",
       "      <td>Credited to XX5936</td>\n",
       "      <td>NaN</td>\n",
       "      <td>NaN</td>\n",
       "    </tr>\n",
       "    <tr>\n",
       "      <th>3</th>\n",
       "      <td>May 30, 2023\\n10:25 AM</td>\n",
       "      <td>Paid to IRCTC App UPI\\nTransaction ID : PTM305...</td>\n",
       "      <td>Debit</td>\n",
       "      <td>1173.95</td>\n",
       "    </tr>\n",
       "    <tr>\n",
       "      <th>4</th>\n",
       "      <td>NaN</td>\n",
       "      <td>UTR No : 315016126914</td>\n",
       "      <td>NaN</td>\n",
       "      <td>NaN</td>\n",
       "    </tr>\n",
       "  </tbody>\n",
       "</table>\n",
       "</div>"
      ],
      "text/plain": [
       "                     Date                                Transaction Details  \\\n",
       "0  May 13, 2023\\n12:33 PM  Received from Prakash\\nTransaction ID : T23051...   \n",
       "1                     NaN                              UTR No : 313363317514   \n",
       "2                     NaN                                 Credited to XX5936   \n",
       "3  May 30, 2023\\n10:25 AM  Paid to IRCTC App UPI\\nTransaction ID : PTM305...   \n",
       "4                     NaN                              UTR No : 315016126914   \n",
       "\n",
       "     Type    Amount  \n",
       "0  Credit  10000.00  \n",
       "1     NaN       NaN  \n",
       "2     NaN       NaN  \n",
       "3   Debit   1173.95  \n",
       "4     NaN       NaN  "
      ]
     },
     "execution_count": 5,
     "metadata": {},
     "output_type": "execute_result"
    }
   ],
   "source": [
    "df.head()"
   ]
  },
  {
   "cell_type": "code",
   "execution_count": 43,
   "metadata": {},
   "outputs": [
    {
     "data": {
      "text/plain": [
       "Date                   0\n",
       "Transaction Details    0\n",
       "Type                   0\n",
       "Amount                 0\n",
       "dtype: int64"
      ]
     },
     "execution_count": 43,
     "metadata": {},
     "output_type": "execute_result"
    }
   ],
   "source": [
    "df3.isnull().sum()"
   ]
  },
  {
   "cell_type": "code",
   "execution_count": 25,
   "metadata": {},
   "outputs": [
    {
     "data": {
      "text/html": [
       "<div>\n",
       "<style scoped>\n",
       "    .dataframe tbody tr th:only-of-type {\n",
       "        vertical-align: middle;\n",
       "    }\n",
       "\n",
       "    .dataframe tbody tr th {\n",
       "        vertical-align: top;\n",
       "    }\n",
       "\n",
       "    .dataframe thead th {\n",
       "        text-align: right;\n",
       "    }\n",
       "</style>\n",
       "<table border=\"1\" class=\"dataframe\">\n",
       "  <thead>\n",
       "    <tr style=\"text-align: right;\">\n",
       "      <th></th>\n",
       "      <th>Date</th>\n",
       "      <th>Transaction Details</th>\n",
       "      <th>Type</th>\n",
       "      <th>Amount</th>\n",
       "    </tr>\n",
       "  </thead>\n",
       "  <tbody>\n",
       "    <tr>\n",
       "      <th>0</th>\n",
       "      <td>May 13, 2023\\n12:33 PM</td>\n",
       "      <td>Received from Prakash\\nTransaction ID : T23051...</td>\n",
       "      <td>Credit</td>\n",
       "      <td>10000.00</td>\n",
       "    </tr>\n",
       "    <tr>\n",
       "      <th>1</th>\n",
       "      <td>NaN</td>\n",
       "      <td>UTR No : 313363317514</td>\n",
       "      <td>NaN</td>\n",
       "      <td>NaN</td>\n",
       "    </tr>\n",
       "    <tr>\n",
       "      <th>2</th>\n",
       "      <td>NaN</td>\n",
       "      <td>Credited to XX5936</td>\n",
       "      <td>NaN</td>\n",
       "      <td>NaN</td>\n",
       "    </tr>\n",
       "    <tr>\n",
       "      <th>3</th>\n",
       "      <td>May 30, 2023\\n10:25 AM</td>\n",
       "      <td>Paid to IRCTC App UPI\\nTransaction ID : PTM305...</td>\n",
       "      <td>Debit</td>\n",
       "      <td>1173.95</td>\n",
       "    </tr>\n",
       "    <tr>\n",
       "      <th>4</th>\n",
       "      <td>NaN</td>\n",
       "      <td>UTR No : 315016126914</td>\n",
       "      <td>NaN</td>\n",
       "      <td>NaN</td>\n",
       "    </tr>\n",
       "  </tbody>\n",
       "</table>\n",
       "</div>"
      ],
      "text/plain": [
       "                     Date                                Transaction Details  \\\n",
       "0  May 13, 2023\\n12:33 PM  Received from Prakash\\nTransaction ID : T23051...   \n",
       "1                     NaN                              UTR No : 313363317514   \n",
       "2                     NaN                                 Credited to XX5936   \n",
       "3  May 30, 2023\\n10:25 AM  Paid to IRCTC App UPI\\nTransaction ID : PTM305...   \n",
       "4                     NaN                              UTR No : 315016126914   \n",
       "\n",
       "     Type    Amount  \n",
       "0  Credit  10000.00  \n",
       "1     NaN       NaN  \n",
       "2     NaN       NaN  \n",
       "3   Debit   1173.95  \n",
       "4     NaN       NaN  "
      ]
     },
     "execution_count": 25,
     "metadata": {},
     "output_type": "execute_result"
    }
   ],
   "source": [
    "df.head()"
   ]
  },
  {
   "cell_type": "code",
   "execution_count": 29,
   "metadata": {},
   "outputs": [
    {
     "data": {
      "text/html": [
       "<div>\n",
       "<style scoped>\n",
       "    .dataframe tbody tr th:only-of-type {\n",
       "        vertical-align: middle;\n",
       "    }\n",
       "\n",
       "    .dataframe tbody tr th {\n",
       "        vertical-align: top;\n",
       "    }\n",
       "\n",
       "    .dataframe thead th {\n",
       "        text-align: right;\n",
       "    }\n",
       "</style>\n",
       "<table border=\"1\" class=\"dataframe\">\n",
       "  <thead>\n",
       "    <tr style=\"text-align: right;\">\n",
       "      <th></th>\n",
       "      <th>Date</th>\n",
       "      <th>Transaction Details</th>\n",
       "      <th>Type</th>\n",
       "      <th>Amount</th>\n",
       "    </tr>\n",
       "  </thead>\n",
       "  <tbody>\n",
       "    <tr>\n",
       "      <th>0</th>\n",
       "      <td>May 13, 2023\\n12:33 PM</td>\n",
       "      <td>Received from Prakash\\nTransaction ID : T23051...</td>\n",
       "      <td>Credit</td>\n",
       "      <td>10000.0</td>\n",
       "    </tr>\n",
       "    <tr>\n",
       "      <th>1</th>\n",
       "      <td>NA</td>\n",
       "      <td>UTR No : 313363317514</td>\n",
       "      <td>NA</td>\n",
       "      <td>NA</td>\n",
       "    </tr>\n",
       "    <tr>\n",
       "      <th>2</th>\n",
       "      <td>NA</td>\n",
       "      <td>Credited to XX5936</td>\n",
       "      <td>NA</td>\n",
       "      <td>NA</td>\n",
       "    </tr>\n",
       "    <tr>\n",
       "      <th>3</th>\n",
       "      <td>May 30, 2023\\n10:25 AM</td>\n",
       "      <td>Paid to IRCTC App UPI\\nTransaction ID : PTM305...</td>\n",
       "      <td>Debit</td>\n",
       "      <td>1173.95</td>\n",
       "    </tr>\n",
       "    <tr>\n",
       "      <th>4</th>\n",
       "      <td>NA</td>\n",
       "      <td>UTR No : 315016126914</td>\n",
       "      <td>NA</td>\n",
       "      <td>NA</td>\n",
       "    </tr>\n",
       "    <tr>\n",
       "      <th>...</th>\n",
       "      <td>...</td>\n",
       "      <td>...</td>\n",
       "      <td>...</td>\n",
       "      <td>...</td>\n",
       "    </tr>\n",
       "    <tr>\n",
       "      <th>1101</th>\n",
       "      <td>Page 40 of 40</td>\n",
       "      <td>NA</td>\n",
       "      <td>NA</td>\n",
       "      <td>NA</td>\n",
       "    </tr>\n",
       "    <tr>\n",
       "      <th>1102</th>\n",
       "      <td>This is an automatically generated statement. ...</td>\n",
       "      <td>NA</td>\n",
       "      <td>NA</td>\n",
       "      <td>NA</td>\n",
       "    </tr>\n",
       "    <tr>\n",
       "      <th>1103</th>\n",
       "      <td>Visit https://www.phonepe.com/terms-conditions...</td>\n",
       "      <td>NA</td>\n",
       "      <td>NA</td>\n",
       "      <td>NA</td>\n",
       "    </tr>\n",
       "    <tr>\n",
       "      <th>1104</th>\n",
       "      <td>Do not fall prey to fictitious offers of winni...</td>\n",
       "      <td>NA</td>\n",
       "      <td>NA</td>\n",
       "      <td>NA</td>\n",
       "    </tr>\n",
       "    <tr>\n",
       "      <th>1105</th>\n",
       "      <td>The contents of this email and document are co...</td>\n",
       "      <td>NA</td>\n",
       "      <td>NA</td>\n",
       "      <td>NA</td>\n",
       "    </tr>\n",
       "  </tbody>\n",
       "</table>\n",
       "<p>1106 rows × 4 columns</p>\n",
       "</div>"
      ],
      "text/plain": [
       "                                                   Date  \\\n",
       "0                                May 13, 2023\\n12:33 PM   \n",
       "1                                                    NA   \n",
       "2                                                    NA   \n",
       "3                                May 30, 2023\\n10:25 AM   \n",
       "4                                                    NA   \n",
       "...                                                 ...   \n",
       "1101                                      Page 40 of 40   \n",
       "1102  This is an automatically generated statement. ...   \n",
       "1103  Visit https://www.phonepe.com/terms-conditions...   \n",
       "1104  Do not fall prey to fictitious offers of winni...   \n",
       "1105  The contents of this email and document are co...   \n",
       "\n",
       "                                    Transaction Details    Type   Amount  \n",
       "0     Received from Prakash\\nTransaction ID : T23051...  Credit  10000.0  \n",
       "1                                 UTR No : 313363317514      NA       NA  \n",
       "2                                    Credited to XX5936      NA       NA  \n",
       "3     Paid to IRCTC App UPI\\nTransaction ID : PTM305...   Debit  1173.95  \n",
       "4                                 UTR No : 315016126914      NA       NA  \n",
       "...                                                 ...     ...      ...  \n",
       "1101                                                 NA      NA       NA  \n",
       "1102                                                 NA      NA       NA  \n",
       "1103                                                 NA      NA       NA  \n",
       "1104                                                 NA      NA       NA  \n",
       "1105                                                 NA      NA       NA  \n",
       "\n",
       "[1106 rows x 4 columns]"
      ]
     },
     "execution_count": 29,
     "metadata": {},
     "output_type": "execute_result"
    }
   ],
   "source": [
    "df.fillna('NA')"
   ]
  },
  {
   "cell_type": "code",
   "execution_count": 31,
   "metadata": {},
   "outputs": [
    {
     "data": {
      "text/plain": [
       "(1106, 4)"
      ]
     },
     "execution_count": 31,
     "metadata": {},
     "output_type": "execute_result"
    }
   ],
   "source": [
    "df.shape"
   ]
  },
  {
   "cell_type": "code",
   "execution_count": 32,
   "metadata": {},
   "outputs": [
    {
     "data": {
      "text/html": [
       "<div>\n",
       "<style scoped>\n",
       "    .dataframe tbody tr th:only-of-type {\n",
       "        vertical-align: middle;\n",
       "    }\n",
       "\n",
       "    .dataframe tbody tr th {\n",
       "        vertical-align: top;\n",
       "    }\n",
       "\n",
       "    .dataframe thead th {\n",
       "        text-align: right;\n",
       "    }\n",
       "</style>\n",
       "<table border=\"1\" class=\"dataframe\">\n",
       "  <thead>\n",
       "    <tr style=\"text-align: right;\">\n",
       "      <th></th>\n",
       "      <th>Date</th>\n",
       "      <th>Transaction Details</th>\n",
       "      <th>Type</th>\n",
       "      <th>Amount</th>\n",
       "    </tr>\n",
       "  </thead>\n",
       "  <tbody>\n",
       "    <tr>\n",
       "      <th>0</th>\n",
       "      <td>May 13, 2023\\n12:33 PM</td>\n",
       "      <td>Received from Prakash\\nTransaction ID : T23051...</td>\n",
       "      <td>Credit</td>\n",
       "      <td>10000.00</td>\n",
       "    </tr>\n",
       "    <tr>\n",
       "      <th>1</th>\n",
       "      <td>NaN</td>\n",
       "      <td>UTR No : 313363317514</td>\n",
       "      <td>NaN</td>\n",
       "      <td>NaN</td>\n",
       "    </tr>\n",
       "    <tr>\n",
       "      <th>2</th>\n",
       "      <td>NaN</td>\n",
       "      <td>Credited to XX5936</td>\n",
       "      <td>NaN</td>\n",
       "      <td>NaN</td>\n",
       "    </tr>\n",
       "    <tr>\n",
       "      <th>3</th>\n",
       "      <td>May 30, 2023\\n10:25 AM</td>\n",
       "      <td>Paid to IRCTC App UPI\\nTransaction ID : PTM305...</td>\n",
       "      <td>Debit</td>\n",
       "      <td>1173.95</td>\n",
       "    </tr>\n",
       "    <tr>\n",
       "      <th>4</th>\n",
       "      <td>NaN</td>\n",
       "      <td>UTR No : 315016126914</td>\n",
       "      <td>NaN</td>\n",
       "      <td>NaN</td>\n",
       "    </tr>\n",
       "  </tbody>\n",
       "</table>\n",
       "</div>"
      ],
      "text/plain": [
       "                     Date                                Transaction Details  \\\n",
       "0  May 13, 2023\\n12:33 PM  Received from Prakash\\nTransaction ID : T23051...   \n",
       "1                     NaN                              UTR No : 313363317514   \n",
       "2                     NaN                                 Credited to XX5936   \n",
       "3  May 30, 2023\\n10:25 AM  Paid to IRCTC App UPI\\nTransaction ID : PTM305...   \n",
       "4                     NaN                              UTR No : 315016126914   \n",
       "\n",
       "     Type    Amount  \n",
       "0  Credit  10000.00  \n",
       "1     NaN       NaN  \n",
       "2     NaN       NaN  \n",
       "3   Debit   1173.95  \n",
       "4     NaN       NaN  "
      ]
     },
     "execution_count": 32,
     "metadata": {},
     "output_type": "execute_result"
    }
   ],
   "source": [
    "df.head()"
   ]
  },
  {
   "cell_type": "code",
   "execution_count": 34,
   "metadata": {},
   "outputs": [],
   "source": [
    "df3=df.loc[df['Type']=='Credit']"
   ]
  },
  {
   "cell_type": "code",
   "execution_count": 59,
   "metadata": {},
   "outputs": [
    {
     "data": {
      "text/html": [
       "<div>\n",
       "<style scoped>\n",
       "    .dataframe tbody tr th:only-of-type {\n",
       "        vertical-align: middle;\n",
       "    }\n",
       "\n",
       "    .dataframe tbody tr th {\n",
       "        vertical-align: top;\n",
       "    }\n",
       "\n",
       "    .dataframe thead th {\n",
       "        text-align: right;\n",
       "    }\n",
       "</style>\n",
       "<table border=\"1\" class=\"dataframe\">\n",
       "  <thead>\n",
       "    <tr style=\"text-align: right;\">\n",
       "      <th></th>\n",
       "      <th>Date</th>\n",
       "      <th>Transaction Details</th>\n",
       "      <th>Type</th>\n",
       "      <th>Amount</th>\n",
       "    </tr>\n",
       "  </thead>\n",
       "  <tbody>\n",
       "    <tr>\n",
       "      <th>0</th>\n",
       "      <td>May 13, 2023\\n12:33 PM</td>\n",
       "      <td>Received from Prakash\\nTransaction ID : T23051...</td>\n",
       "      <td>Credit</td>\n",
       "      <td>10000.00</td>\n",
       "    </tr>\n",
       "    <tr>\n",
       "      <th>1</th>\n",
       "      <td>NaN</td>\n",
       "      <td>UTR No : 313363317514</td>\n",
       "      <td>NaN</td>\n",
       "      <td>NaN</td>\n",
       "    </tr>\n",
       "    <tr>\n",
       "      <th>2</th>\n",
       "      <td>NaN</td>\n",
       "      <td>Credited to XX5936</td>\n",
       "      <td>NaN</td>\n",
       "      <td>NaN</td>\n",
       "    </tr>\n",
       "    <tr>\n",
       "      <th>3</th>\n",
       "      <td>May 30, 2023\\n10:25 AM</td>\n",
       "      <td>Paid to IRCTC App UPI\\nTransaction ID : PTM305...</td>\n",
       "      <td>Debit</td>\n",
       "      <td>1173.95</td>\n",
       "    </tr>\n",
       "    <tr>\n",
       "      <th>4</th>\n",
       "      <td>NaN</td>\n",
       "      <td>UTR No : 315016126914</td>\n",
       "      <td>NaN</td>\n",
       "      <td>NaN</td>\n",
       "    </tr>\n",
       "  </tbody>\n",
       "</table>\n",
       "</div>"
      ],
      "text/plain": [
       "                     Date                                Transaction Details  \\\n",
       "0  May 13, 2023\\n12:33 PM  Received from Prakash\\nTransaction ID : T23051...   \n",
       "1                     NaN                              UTR No : 313363317514   \n",
       "2                     NaN                                 Credited to XX5936   \n",
       "3  May 30, 2023\\n10:25 AM  Paid to IRCTC App UPI\\nTransaction ID : PTM305...   \n",
       "4                     NaN                              UTR No : 315016126914   \n",
       "\n",
       "     Type    Amount  \n",
       "0  Credit  10000.00  \n",
       "1     NaN       NaN  \n",
       "2     NaN       NaN  \n",
       "3   Debit   1173.95  \n",
       "4     NaN       NaN  "
      ]
     },
     "execution_count": 59,
     "metadata": {},
     "output_type": "execute_result"
    }
   ],
   "source": [
    "df.head()"
   ]
  },
  {
   "cell_type": "code",
   "execution_count": 8,
   "metadata": {},
   "outputs": [],
   "source": [
    "df2=df.drop_duplicates()"
   ]
  },
  {
   "cell_type": "code",
   "execution_count": 77,
   "metadata": {},
   "outputs": [
    {
     "data": {
      "text/plain": [
       "<Figure size 1200x1700 with 0 Axes>"
      ]
     },
     "metadata": {},
     "output_type": "display_data"
    },
    {
     "data": {
      "image/png": "[encoded data removed]",
      "text/plain": [
       "<Figure size 640x480 with 1 Axes>"
      ]
     },
     "metadata": {},
     "output_type": "display_data"
    }
   ],
   "source": [
    "# df3.plt(x='Amount')\n",
    "# plt.show()\n",
    "\n",
    "# plt.plot(df['Amount'], )\n",
    "\n",
    "df3=df.groupby('Type').sum()\n",
    "plt.figure(figsize=(12,17))\n",
    "df3.plot(kind='bar')\n",
    "plt.xlabel('Amount')\n",
    "plt.ylabel('Type')\n",
    "plt.show()"
   ]
  },
  {
   "cell_type": "code",
   "execution_count": 83,
   "metadata": {},
   "outputs": [
    {
     "data": {
      "text/html": [
       "<div>\n",
       "<style scoped>\n",
       "    .dataframe tbody tr th:only-of-type {\n",
       "        vertical-align: middle;\n",
       "    }\n",
       "\n",
       "    .dataframe tbody tr th {\n",
       "        vertical-align: top;\n",
       "    }\n",
       "\n",
       "    .dataframe thead th {\n",
       "        text-align: right;\n",
       "    }\n",
       "</style>\n",
       "<table border=\"1\" class=\"dataframe\">\n",
       "  <thead>\n",
       "    <tr style=\"text-align: right;\">\n",
       "      <th></th>\n",
       "      <th>Date</th>\n",
       "      <th>Transaction Details</th>\n",
       "      <th>Amount</th>\n",
       "    </tr>\n",
       "    <tr>\n",
       "      <th>Type</th>\n",
       "      <th></th>\n",
       "      <th></th>\n",
       "      <th></th>\n",
       "    </tr>\n",
       "  </thead>\n",
       "  <tbody>\n",
       "    <tr>\n",
       "      <th>Credit</th>\n",
       "      <td>May 13, 2023\\n12:33 PMJul 27, 2023\\n11:22 AMJu...</td>\n",
       "      <td>Received from Prakash\\nTransaction ID : T23051...</td>\n",
       "      <td>17297.56</td>\n",
       "    </tr>\n",
       "    <tr>\n",
       "      <th>Debit</th>\n",
       "      <td>May 30, 2023\\n10:25 AMJun 05, 2023\\n06:12 PMJu...</td>\n",
       "      <td>Paid to IRCTC App UPI\\nTransaction ID : PTM305...</td>\n",
       "      <td>285830.07</td>\n",
       "    </tr>\n",
       "  </tbody>\n",
       "</table>\n",
       "</div>"
      ],
      "text/plain": [
       "                                                     Date  \\\n",
       "Type                                                        \n",
       "Credit  May 13, 2023\\n12:33 PMJul 27, 2023\\n11:22 AMJu...   \n",
       "Debit   May 30, 2023\\n10:25 AMJun 05, 2023\\n06:12 PMJu...   \n",
       "\n",
       "                                      Transaction Details     Amount  \n",
       "Type                                                                  \n",
       "Credit  Received from Prakash\\nTransaction ID : T23051...   17297.56  \n",
       "Debit   Paid to IRCTC App UPI\\nTransaction ID : PTM305...  285830.07  "
      ]
     },
     "execution_count": 83,
     "metadata": {},
     "output_type": "execute_result"
    }
   ],
   "source": [
    "df3.head()"
   ]
  },
  {
   "cell_type": "code",
   "execution_count": 81,
   "metadata": {},
   "outputs": [
    {
     "data": {
      "text/html": [
       "<div>\n",
       "<style scoped>\n",
       "    .dataframe tbody tr th:only-of-type {\n",
       "        vertical-align: middle;\n",
       "    }\n",
       "\n",
       "    .dataframe tbody tr th {\n",
       "        vertical-align: top;\n",
       "    }\n",
       "\n",
       "    .dataframe thead th {\n",
       "        text-align: right;\n",
       "    }\n",
       "</style>\n",
       "<table border=\"1\" class=\"dataframe\">\n",
       "  <thead>\n",
       "    <tr style=\"text-align: right;\">\n",
       "      <th></th>\n",
       "      <th>Date</th>\n",
       "      <th>Transaction Details</th>\n",
       "      <th>Type</th>\n",
       "      <th>Amount</th>\n",
       "    </tr>\n",
       "  </thead>\n",
       "  <tbody>\n",
       "    <tr>\n",
       "      <th>0</th>\n",
       "      <td>May 13, 2023\\n12:33 PM</td>\n",
       "      <td>Received from Prakash\\nTransaction ID : T23051...</td>\n",
       "      <td>Credit</td>\n",
       "      <td>10000.00</td>\n",
       "    </tr>\n",
       "    <tr>\n",
       "      <th>1</th>\n",
       "      <td>NaN</td>\n",
       "      <td>UTR No : 313363317514</td>\n",
       "      <td>NaN</td>\n",
       "      <td>NaN</td>\n",
       "    </tr>\n",
       "    <tr>\n",
       "      <th>2</th>\n",
       "      <td>NaN</td>\n",
       "      <td>Credited to XX5936</td>\n",
       "      <td>NaN</td>\n",
       "      <td>NaN</td>\n",
       "    </tr>\n",
       "    <tr>\n",
       "      <th>3</th>\n",
       "      <td>May 30, 2023\\n10:25 AM</td>\n",
       "      <td>Paid to IRCTC App UPI\\nTransaction ID : PTM305...</td>\n",
       "      <td>Debit</td>\n",
       "      <td>1173.95</td>\n",
       "    </tr>\n",
       "    <tr>\n",
       "      <th>4</th>\n",
       "      <td>NaN</td>\n",
       "      <td>UTR No : 315016126914</td>\n",
       "      <td>NaN</td>\n",
       "      <td>NaN</td>\n",
       "    </tr>\n",
       "  </tbody>\n",
       "</table>\n",
       "</div>"
      ],
      "text/plain": [
       "                     Date                                Transaction Details  \\\n",
       "0  May 13, 2023\\n12:33 PM  Received from Prakash\\nTransaction ID : T23051...   \n",
       "1                     NaN                              UTR No : 313363317514   \n",
       "2                     NaN                                 Credited to XX5936   \n",
       "3  May 30, 2023\\n10:25 AM  Paid to IRCTC App UPI\\nTransaction ID : PTM305...   \n",
       "4                     NaN                              UTR No : 315016126914   \n",
       "\n",
       "     Type    Amount  \n",
       "0  Credit  10000.00  \n",
       "1     NaN       NaN  \n",
       "2     NaN       NaN  \n",
       "3   Debit   1173.95  \n",
       "4     NaN       NaN  "
      ]
     },
     "execution_count": 81,
     "metadata": {},
     "output_type": "execute_result"
    }
   ],
   "source": [
    "df2.head()"
   ]
  },
  {
   "cell_type": "code",
   "execution_count": 85,
   "metadata": {},
   "outputs": [],
   "source": [
    "# Extract UTR No\n",
    "df5=df['UTR No'] = df['Transaction Details'].str.extract(r'UTR No : (\\d+)')\n",
    "\n",
    "# Remove UTR No from the Transaction column\n",
    "df5=df['Transaction Details'] = df['Transaction Details'].str.replace(r'UTR No : \\d+', '', regex=True)"
   ]
  },
  {
   "cell_type": "code",
   "execution_count": 88,
   "metadata": {},
   "outputs": [
    {
     "data": {
      "text/html": [
       "<div>\n",
       "<style scoped>\n",
       "    .dataframe tbody tr th:only-of-type {\n",
       "        vertical-align: middle;\n",
       "    }\n",
       "\n",
       "    .dataframe tbody tr th {\n",
       "        vertical-align: top;\n",
       "    }\n",
       "\n",
       "    .dataframe thead th {\n",
       "        text-align: right;\n",
       "    }\n",
       "</style>\n",
       "<table border=\"1\" class=\"dataframe\">\n",
       "  <thead>\n",
       "    <tr style=\"text-align: right;\">\n",
       "      <th></th>\n",
       "      <th>Date</th>\n",
       "      <th>Transaction Details</th>\n",
       "      <th>Type</th>\n",
       "      <th>Amount</th>\n",
       "      <th>UTR No</th>\n",
       "    </tr>\n",
       "  </thead>\n",
       "  <tbody>\n",
       "    <tr>\n",
       "      <th>0</th>\n",
       "      <td>May 13, 2023\\n12:33 PM</td>\n",
       "      <td>Received from Prakash\\nTransaction ID : T23051...</td>\n",
       "      <td>Credit</td>\n",
       "      <td>10000.00</td>\n",
       "      <td>NaN</td>\n",
       "    </tr>\n",
       "    <tr>\n",
       "      <th>1</th>\n",
       "      <td>NaN</td>\n",
       "      <td></td>\n",
       "      <td>NaN</td>\n",
       "      <td>NaN</td>\n",
       "      <td>313363317514</td>\n",
       "    </tr>\n",
       "    <tr>\n",
       "      <th>2</th>\n",
       "      <td>NaN</td>\n",
       "      <td>Credited to XX5936</td>\n",
       "      <td>NaN</td>\n",
       "      <td>NaN</td>\n",
       "      <td>NaN</td>\n",
       "    </tr>\n",
       "    <tr>\n",
       "      <th>3</th>\n",
       "      <td>May 30, 2023\\n10:25 AM</td>\n",
       "      <td>Paid to IRCTC App UPI\\nTransaction ID : PTM305...</td>\n",
       "      <td>Debit</td>\n",
       "      <td>1173.95</td>\n",
       "      <td>NaN</td>\n",
       "    </tr>\n",
       "    <tr>\n",
       "      <th>4</th>\n",
       "      <td>NaN</td>\n",
       "      <td></td>\n",
       "      <td>NaN</td>\n",
       "      <td>NaN</td>\n",
       "      <td>315016126914</td>\n",
       "    </tr>\n",
       "  </tbody>\n",
       "</table>\n",
       "</div>"
      ],
      "text/plain": [
       "                     Date                                Transaction Details  \\\n",
       "0  May 13, 2023\\n12:33 PM  Received from Prakash\\nTransaction ID : T23051...   \n",
       "1                     NaN                                                      \n",
       "2                     NaN                                 Credited to XX5936   \n",
       "3  May 30, 2023\\n10:25 AM  Paid to IRCTC App UPI\\nTransaction ID : PTM305...   \n",
       "4                     NaN                                                      \n",
       "\n",
       "     Type    Amount        UTR No  \n",
       "0  Credit  10000.00           NaN  \n",
       "1     NaN       NaN  313363317514  \n",
       "2     NaN       NaN           NaN  \n",
       "3   Debit   1173.95           NaN  \n",
       "4     NaN       NaN  315016126914  "
      ]
     },
     "execution_count": 88,
     "metadata": {},
     "output_type": "execute_result"
    }
   ],
   "source": [
    "df.head()"
   ]
  },
  {
   "cell_type": "code",
   "execution_count": 89,
   "metadata": {},
   "outputs": [],
   "source": [
    "df5=df['Transaction ID']=df['Transaction Details'].str.extract(r'Transaction ID : (\\d+)')\n",
    "df5=df['Transaction Details'] = df['Transaction Details'].str.replace(r'Transaction ID :  \\d+', '', regex=True)"
   ]
  },
  {
   "cell_type": "code",
   "execution_count": 94,
   "metadata": {},
   "outputs": [
    {
     "data": {
      "text/plain": [
       "0       Received from Prakash\\nTransaction ID : T23051...\n",
       "1                                                        \n",
       "2                                      Credited to XX5936\n",
       "3       Paid to IRCTC App UPI\\nTransaction ID : PTM305...\n",
       "4                                                        \n",
       "                              ...                        \n",
       "1101                                                  NaN\n",
       "1102                                                  NaN\n",
       "1103                                                  NaN\n",
       "1104                                                  NaN\n",
       "1105                                                  NaN\n",
       "Name: Transaction Details, Length: 1106, dtype: object"
      ]
     },
     "execution_count": 94,
     "metadata": {},
     "output_type": "execute_result"
    }
   ],
   "source": [
    "df['Transaction Details']"
   ]
  },
  {
   "cell_type": "code",
   "execution_count": 100,
   "metadata": {},
   "outputs": [
    {
     "name": "stdout",
     "output_type": "stream",
     "text": [
      "             Amount\n",
      "count    354.000000\n",
      "mean     856.292740\n",
      "std     3134.006469\n",
      "min        1.000000\n",
      "25%       51.000000\n",
      "50%      150.000000\n",
      "75%      458.090000\n",
      "max    40000.000000\n"
     ]
    }
   ],
   "source": [
    "print(df.describe())\n"
   ]
  },
  {
   "cell_type": "code",
   "execution_count": 97,
   "metadata": {},
   "outputs": [],
   "source": [
    "# zerodha_transactions = df[df['Transaction Details'].str.contains('Zerodha', case=False)]\n",
    "\n",
    "# print(zerodha_transactions)\n",
    "\n",
    "df['Transaction Details'] = df['Transaction Details'].str.strip()\n",
    "zerodha_transactions = df[df['Transaction Details'].str.contains('Zerodha', case=False, na=False)]\n"
   ]
  },
  {
   "cell_type": "code",
   "execution_count": 99,
   "metadata": {},
   "outputs": [
    {
     "data": {
      "image/png": "[encoded data removed]",
      "text/plain": [
       "<Figure size 1000x600 with 1 Axes>"
      ]
     },
     "metadata": {},
     "output_type": "display_data"
    }
   ],
   "source": [
    "if 'Date' in zerodha_transactions.columns and 'Amount' in zerodha_transactions.columns:\n",
    "    grouped_data = zerodha_transactions.groupby('Date')['Amount'].sum().reset_index()\n",
    "\n",
    "    # Plotting\n",
    "    plt.figure(figsize=(10, 6))\n",
    "    plt.bar(grouped_data['Date'], grouped_data['Amount'], color='blue')\n",
    "    plt.xlabel('Date')\n",
    "    plt.ylabel('Total Amount')\n",
    "    plt.title('Total Amount of Zerodha Transactions by Date')\n",
    "    plt.xticks(rotation=45)\n",
    "    plt.tight_layout()\n",
    "    plt.show()\n",
    "else:\n",
    "    print(\"The required columns ('Date', 'Amount') are not present in the DataFrame.\")\n"
   ]
  }
 ],
 "metadata": {
  "kernelspec": {
   "display_name": "Python 3",
   "language": "python",
   "name": "python3"
  },
  "language_info": {
   "codemirror_mode": {
    "name": "ipython",
    "version": 3
   },
   "file_extension": ".py",
   "mimetype": "text/x-python",
   "name": "python",
   "nbconvert_exporter": "python",
   "pygments_lexer": "ipython3",
   "version": "3.12.5"
  }
 },
 "nbformat": 4,
 "nbformat_minor": 2
}
